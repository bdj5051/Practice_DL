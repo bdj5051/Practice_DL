{
 "cells": [
  {
   "cell_type": "markdown",
   "metadata": {},
   "source": [
    "# 보스턴 집값 예측하기"
   ]
  },
  {
   "cell_type": "code",
   "execution_count": 1,
   "metadata": {},
   "outputs": [],
   "source": [
    "from keras.models import Sequential\n",
    "from keras.layers import Dense\n",
    "from sklearn.model_selection import train_test_split\n",
    "import numpy\n",
    "import pandas as pd\n",
    "import tensorflow as tf\n",
    "import matplotlib.pyplot as plt"
   ]
  },
  {
   "cell_type": "code",
   "execution_count": 3,
   "metadata": {},
   "outputs": [
    {
     "name": "stdout",
     "output_type": "stream",
     "text": [
      "<class 'pandas.core.frame.DataFrame'>\n",
      "RangeIndex: 506 entries, 0 to 505\n",
      "Data columns (total 14 columns):\n",
      "0     506 non-null float64\n",
      "1     506 non-null float64\n",
      "2     506 non-null float64\n",
      "3     506 non-null int64\n",
      "4     506 non-null float64\n",
      "5     506 non-null float64\n",
      "6     506 non-null float64\n",
      "7     506 non-null float64\n",
      "8     506 non-null int64\n",
      "9     506 non-null float64\n",
      "10    506 non-null float64\n",
      "11    506 non-null float64\n",
      "12    506 non-null float64\n",
      "13    506 non-null float64\n",
      "dtypes: float64(12), int64(2)\n",
      "memory usage: 55.4 KB\n",
      "None\n"
     ]
    }
   ],
   "source": [
    "df = pd.read_csv('../dataset/housing.csv', delim_whitespace=True, header=None)\n",
    "print(df.info())"
   ]
  },
  {
   "cell_type": "code",
   "execution_count": 4,
   "metadata": {},
   "outputs": [
    {
     "name": "stdout",
     "output_type": "stream",
     "text": [
      "        0     1     2   3      4   ...      9     10      11    12    13\n",
      "0  0.00632  18.0  2.31   0  0.538  ...   296.0  15.3  396.90  4.98  24.0\n",
      "1  0.02731   0.0  7.07   0  0.469  ...   242.0  17.8  396.90  9.14  21.6\n",
      "2  0.02729   0.0  7.07   0  0.469  ...   242.0  17.8  392.83  4.03  34.7\n",
      "3  0.03237   0.0  2.18   0  0.458  ...   222.0  18.7  394.63  2.94  33.4\n",
      "4  0.06905   0.0  2.18   0  0.458  ...   222.0  18.7  396.90  5.33  36.2\n",
      "\n",
      "[5 rows x 14 columns]\n"
     ]
    }
   ],
   "source": [
    "print(df.head())"
   ]
  },
  {
   "cell_type": "code",
   "execution_count": 5,
   "metadata": {},
   "outputs": [],
   "source": [
    "# seed값 설정\n",
    "seed = 0\n",
    "numpy.random.seed(seed)\n",
    "tf.set_random_seed(seed)"
   ]
  },
  {
   "cell_type": "code",
   "execution_count": 11,
   "metadata": {},
   "outputs": [],
   "source": [
    "dataset = df.values\n",
    "X = dataset[:,0:13]\n",
    "Y = dataset[:,13]\n",
    "X_train, X_test, Y_train, Y_test = train_test_split(X, Y, test_size=0.3, random_state = seed)"
   ]
  },
  {
   "cell_type": "code",
   "execution_count": 13,
   "metadata": {},
   "outputs": [],
   "source": [
    "# 모델 설정\n",
    "model = Sequential()\n",
    "model.add(Dense(30, input_dim = 13, activation='relu'))\n",
    "model.add(Dense(6, activation = 'relu'))\n",
    "model.add(Dense(1)) # 선형 회귀->출력층에 활성화 함수 지정할 필요 없음"
   ]
  },
  {
   "cell_type": "code",
   "execution_count": 13,
   "metadata": {},
   "outputs": [],
   "source": [
    "# 모델 컴파일\n",
    "model.compile(loss='mean_squared_error', optimizer = 'adam')"
   ]
  },
  {
   "cell_type": "code",
   "execution_count": 14,
   "metadata": {},
   "outputs": [
    {
     "name": "stdout",
     "output_type": "stream",
     "text": [
      "Epoch 1/20\n",
      "354/354 [==============================] - 0s 591us/step - loss: 2223.4780\n",
      "Epoch 2/20\n",
      "354/354 [==============================] - 0s 98us/step - loss: 115.5576\n",
      "Epoch 3/20\n",
      "354/354 [==============================] - 0s 99us/step - loss: 77.5534\n",
      "Epoch 4/20\n",
      "354/354 [==============================] - 0s 101us/step - loss: 71.5630\n",
      "Epoch 5/20\n",
      "354/354 [==============================] - 0s 106us/step - loss: 69.9778\n",
      "Epoch 6/20\n",
      "354/354 [==============================] - 0s 105us/step - loss: 67.9437\n",
      "Epoch 7/20\n",
      "354/354 [==============================] - 0s 104us/step - loss: 63.9497\n",
      "Epoch 8/20\n",
      "354/354 [==============================] - 0s 102us/step - loss: 62.8879\n",
      "Epoch 9/20\n",
      "354/354 [==============================] - 0s 108us/step - loss: 61.1042\n",
      "Epoch 10/20\n",
      "354/354 [==============================] - 0s 101us/step - loss: 60.2403\n",
      "Epoch 11/20\n",
      "354/354 [==============================] - 0s 109us/step - loss: 57.8904\n",
      "Epoch 12/20\n",
      "354/354 [==============================] - 0s 99us/step - loss: 58.8579\n",
      "Epoch 13/20\n",
      "354/354 [==============================] - 0s 95us/step - loss: 57.4751\n",
      "Epoch 14/20\n",
      "354/354 [==============================] - 0s 111us/step - loss: 55.6765\n",
      "Epoch 15/20\n",
      "354/354 [==============================] - 0s 99us/step - loss: 55.0368\n",
      "Epoch 16/20\n",
      "354/354 [==============================] - 0s 108us/step - loss: 53.5133\n",
      "Epoch 17/20\n",
      "354/354 [==============================] - 0s 88us/step - loss: 53.2923\n",
      "Epoch 18/20\n",
      "354/354 [==============================] - 0s 92us/step - loss: 52.7750\n",
      "Epoch 19/20\n",
      "354/354 [==============================] - 0s 102us/step - loss: 52.6666\n",
      "Epoch 20/20\n",
      "354/354 [==============================] - 0s 101us/step - loss: 50.3607\n"
     ]
    },
    {
     "data": {
      "text/plain": [
       "<keras.callbacks.History at 0x2861676bef0>"
      ]
     },
     "execution_count": 14,
     "metadata": {},
     "output_type": "execute_result"
    }
   ],
   "source": [
    "# 모델 실행\n",
    "model.fit(X_train, Y_train, epochs=20, batch_size=10)"
   ]
  },
  {
   "cell_type": "code",
   "execution_count": 15,
   "metadata": {},
   "outputs": [
    {
     "name": "stdout",
     "output_type": "stream",
     "text": [
      "실제가격:22.600, 예상가격:25.486\n",
      "실제가격:50.000, 예상가격:18.731\n",
      "실제가격:23.000, 예상가격:22.268\n",
      "실제가격:8.300, 예상가격:18.268\n",
      "실제가격:21.200, 예상가격:24.235\n",
      "실제가격:19.900, 예상가격:23.974\n",
      "실제가격:20.600, 예상가격:22.195\n",
      "실제가격:18.700, 예상가격:28.053\n",
      "실제가격:16.100, 예상가격:21.258\n",
      "실제가격:18.600, 예상가격:6.265\n"
     ]
    }
   ],
   "source": [
    "# 예측 값과 실제 값의 비교\n",
    "Y_prediction = model.predict(X_test).flatten()\n",
    "for i in range(10):\n",
    "    label=Y_test[i]\n",
    "    prediction = Y_prediction[i]\n",
    "    print(\"실제가격:{:.3f}, 예상가격:{:.3f}\".format(label, prediction))"
   ]
  }
 ],
 "metadata": {
  "kernelspec": {
   "display_name": "Python 3",
   "language": "python",
   "name": "python3"
  },
  "language_info": {
   "codemirror_mode": {
    "name": "ipython",
    "version": 3
   },
   "file_extension": ".py",
   "mimetype": "text/x-python",
   "name": "python",
   "nbconvert_exporter": "python",
   "pygments_lexer": "ipython3",
   "version": "3.6.7"
  }
 },
 "nbformat": 4,
 "nbformat_minor": 2
}
